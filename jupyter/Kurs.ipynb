{
 "cells": [
  {
   "cell_type": "code",
   "execution_count": null,
   "metadata": {},
   "outputs": [],
   "source": [
    "    ### Was soll das programm machen\n",
    "\n",
    "### eingabe aller zutaten \n",
    "#### while true: \n",
    "#### zutaten eingabe\n",
    "#### if alle zutaten drin und benutzer stichwort Fertig eingibt --> speicher zutaten in Array ab\n",
    "#### öffne nun eine While-Schleife in der die angaben abgerufen werden.\n"
   ]
  }
 ],
 "metadata": {
  "kernelspec": {
   "display_name": "Python 3",
   "language": "python",
   "name": "python3"
  },
  "language_info": {
   "name": "python",
   "version": "3.12.0"
  },
  "orig_nbformat": 4
 },
 "nbformat": 4,
 "nbformat_minor": 2
}
